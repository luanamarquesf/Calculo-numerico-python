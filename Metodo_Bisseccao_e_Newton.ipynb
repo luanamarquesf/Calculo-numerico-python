{
 "cells": [
  {
   "cell_type": "code",
   "execution_count": 1,
   "metadata": {},
   "outputs": [],
   "source": [
    "import numpy as np"
   ]
  },
  {
   "cell_type": "code",
   "execution_count": 9,
   "metadata": {},
   "outputs": [],
   "source": [
    "def bisseccao(f,a,b, tol = 10**-3, maxIt = 58):\n",
    "    fa= f(a)\n",
    "    fb= f(b)\n",
    "    \n",
    "    if(np.abs(fa) <= tol ):\n",
    "        return a,0\n",
    "    if(np.abs(fb) <= tol ):\n",
    "        return b,0\n",
    "    \n",
    "    if(fa*fb > 0):\n",
    "        print('intervalo invalido')\n",
    "        return 0,-1\n",
    "    \n",
    "    for it in range(maxIt):\n",
    "        x = (b+a)/2\n",
    "        fx = f(x)\n",
    "        \n",
    "        if(np.abs(fx) <= tol):\n",
    "            return x, it-1\n",
    "        \n",
    "        if(fa * fx < 0):\n",
    "            b = x\n",
    "            fb = fx\n",
    "            \n",
    "        else:\n",
    "            a = x\n",
    "            fa=fx\n",
    "    \n",
    "    print('metodo nao convergiu nas iteracoes')\n",
    "    return x, maxIt"
   ]
  },
  {
   "cell_type": "code",
   "execution_count": 13,
   "metadata": {},
   "outputs": [
    {
     "name": "stdout",
     "output_type": "stream",
     "text": [
      "0.7390851262506977 16\n"
     ]
    }
   ],
   "source": [
    "f = lambda x: x - np.cos(x)\n",
    "a = 0\n",
    "b = np.pi/2\n",
    "x, it = bisseccao(f,a,b, tol = 1e-5)\n",
    "print( x, it)"
   ]
  },
  {
   "cell_type": "code",
   "execution_count": 22,
   "metadata": {},
   "outputs": [],
   "source": [
    "def newton(f, df, x0, tol = 1e-3, maxIt = 58):\n",
    "    for it in range (maxIt):\n",
    "        fx = f(x0)\n",
    "        if(np.abs(fx) <= tol):\n",
    "            return x0, it\n",
    "        if(df(x0) == 0):\n",
    "            print('derivada zerou')\n",
    "            return x,it\n",
    "        x0 = x0 - f(x0)/df(x0) \n",
    "    print('metodo nao atingiu tolerancia')\n",
    "    return x0, maxIt"
   ]
  },
  {
   "cell_type": "code",
   "execution_count": 23,
   "metadata": {},
   "outputs": [
    {
     "name": "stdout",
     "output_type": "stream",
     "text": [
      "metodo nao atingiu tolerancia\n",
      "metodo nao atingiu tolerancia\n",
      "-4.1622389094627685 58\n",
      "-4.1622389094627685 58\n"
     ]
    }
   ],
   "source": [
    "df = lambda x: 1-np.sin(x)\n",
    "x, it = newton(f,df,0)\n",
    "x1, it1 = newton(f,df,0, tol = 1e-5)\n",
    "print(x, it)\n",
    "print(x1, it1)\n"
   ]
  },
  {
   "cell_type": "code",
   "execution_count": 24,
   "metadata": {},
   "outputs": [],
   "source": [
    " def Secante(f,xat,xant, tol=1e-5, maxIt=58):\n",
    "    for it in range (maxIt):\n",
    "        xsuc = xat - ((xat - xant)/(f(xat) - f(xant)))*f(xat)\n",
    "        erro = abs((xsuc - xat)/xsuc)\n",
    "        xant = xat\n",
    "        xat = xsuc\n",
    "        \n",
    "        if(erro<tol): return xat\n",
    "    print('metodo nao atingiu tolerancia')\n",
    "    return x0, maxIt"
   ]
  },
  {
   "cell_type": "code",
   "execution_count": null,
   "metadata": {},
   "outputs": [],
   "source": []
  }
 ],
 "metadata": {
  "kernelspec": {
   "display_name": "Python 3",
   "language": "python",
   "name": "python3"
  },
  "language_info": {
   "codemirror_mode": {
    "name": "ipython",
    "version": 3
   },
   "file_extension": ".py",
   "mimetype": "text/x-python",
   "name": "python",
   "nbconvert_exporter": "python",
   "pygments_lexer": "ipython3",
   "version": "3.7.4"
  }
 },
 "nbformat": 4,
 "nbformat_minor": 2
}
