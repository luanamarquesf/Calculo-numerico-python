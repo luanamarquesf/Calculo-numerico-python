{
 "cells": [
  {
   "cell_type": "code",
   "execution_count": 1,
   "metadata": {},
   "outputs": [],
   "source": [
    "#feito por: Luana Ferreira Marques da Silva"
   ]
  },
  {
   "cell_type": "code",
   "execution_count": 2,
   "metadata": {},
   "outputs": [],
   "source": [
    "import numpy as np\n",
    "import sys\n",
    "import matplotlib.pyplot as plt\n",
    "from scipy.linalg import hilbert\n",
    "\n",
    "%matplotlib inline"
   ]
  },
  {
   "cell_type": "code",
   "execution_count": 3,
   "metadata": {},
   "outputs": [],
   "source": [
    "def jacobi(A, b, tol, x = None, maxIt = None):\n",
    "    b = b.flatten().reshape((b.shape[0], 1))\n",
    "    P = np.diag(np.diag(A))\n",
    "    iP = np.linalg.inv(P)\n",
    "    \n",
    "    if x is None:\n",
    "        x = np.zeros(b.shape)\n",
    "        \n",
    "    if maxIt is None:\n",
    "        r = b - A.dot(x)\n",
    "        er = max(np.abs(r))\n",
    "\n",
    "        it = 0\n",
    "\n",
    "        if(er <= tol):\n",
    "            return x, it, er[0]\n",
    "    \n",
    "        while(er > tol):\n",
    "            r = b - A.dot(x)\n",
    "            er = max(np.abs(r))    \n",
    "\n",
    "            if(er <= tol):\n",
    "                return x, it, er[0]\n",
    "            \n",
    "            x = x + iP.dot(r)\n",
    "            it += 1\n",
    "    else:\n",
    "        for it in range(max):\n",
    "            r = b - A.dot(x)\n",
    "            er = max(np.abs(r))            \n",
    "            if(er <= tol):\n",
    "                return x, it, er[0]\n",
    "            \n",
    "            x = x - iP.dot(r)\n",
    "    \n",
    "    return x, maxIt, er"
   ]
  },
  {
   "cell_type": "code",
   "execution_count": 4,
   "metadata": {},
   "outputs": [],
   "source": [
    "def seidel(a,b,x = None):\n",
    "    if x is None:\n",
    "        x = np.zeros(b.shape)\n",
    "\n",
    "    n=len(a)\n",
    "    for j in range(0,n):\n",
    "        d=b[j]\n",
    "        for i in range(0,n):\n",
    "            if(j!=i):\n",
    "                d-=a[j][i] * x[i]\n",
    "        x[j] = d / a[j][j]\n",
    "    return x"
   ]
  },
  {
   "cell_type": "code",
   "execution_count": 5,
   "metadata": {},
   "outputs": [],
   "source": [
    "def bySeidel():\n",
    "    mA = np.array([[-4, 1, 0, 1, 0], [1, -4, 1, 0, 1], [0, 1, -4, 1, 0], [1, 0, 1, -4, 1], [0, 1, 0, 1, -4]])\n",
    "    b = np.array([1, 1, 1, 1, 1])\n",
    "    tols = [10**-2, 10**-4, 10**-6, 10**-8, 10**-10]    \n",
    "    x = None\n",
    "    iteSeidel = []\n",
    "    xSeidel = []\n",
    "    errSeidel = []\n",
    "    err = sys.maxsize\n",
    "    itSeidel = 0\n",
    "    \n",
    "    for i in tols:\n",
    "        while err > i:\n",
    "            x = seidel(mA,b, x)\n",
    "            itSeidel += 1\n",
    "\n",
    "            err = b-(mA.dot(x))\n",
    "            err = max(np.abs(err))\n",
    "        errSeidel.append([err])\n",
    "        iteSeidel.append(itSeidel)\n",
    "        xSeidel.append(x)\n",
    "        \n",
    "    fig, ax = plt.subplots() \n",
    "    ax.set_axis_off() \n",
    "    table = ax.table( \n",
    "        cellText = [['Erro final']] + errSeidel,\n",
    "        rowLabels = ['Iterações'] + iteSeidel,\n",
    "        rowColours =[\"pink\"] * len(errSeidel) * 2,\n",
    "        cellLoc ='center',\n",
    "        loc ='upper left')\n",
    "    \n",
    "    ax.set_title('Erros por iteracao: SEIDEL', fontweight =\"bold\") \n",
    "\n",
    "    plt.show()"
   ]
  },
  {
   "cell_type": "code",
   "execution_count": 6,
   "metadata": {},
   "outputs": [],
   "source": [
    "def byJacobi():\n",
    "    mA = np.array([[-4, 1, 0, 1, 0], [1, -4, 1, 0, 1], [0, 1, -4, 1, 0], [1, 0, 1, -4, 1], [0, 1, 0, 1, -4]])\n",
    "    b = np.array([1, 1, 1, 1, 1])\n",
    "    tols = [10**-2, 10**-4, 10**-6, 10**-8, 10**-10]    \n",
    "    x = None\n",
    "    \n",
    "    iteJacobi = []\n",
    "    xJacobi = []\n",
    "    errorJacobi = []\n",
    "    x = None\n",
    "    for i in tols:            \n",
    "        x, it, errJacobi = jacobi(mA, b, i)    \n",
    "        iteJacobi.append(it)\n",
    "        xJacobi.append(x)\n",
    "        errorJacobi.append([errJacobi])    \n",
    "        \n",
    "    fig, ax = plt.subplots() \n",
    "    ax.set_axis_off() \n",
    "    table = ax.table( \n",
    "        cellText = [['Erro final']] + errorJacobi,\n",
    "        rowLabels = ['Iterações'] + iteJacobi,\n",
    "        rowColours =[\"red\"]*len(errorJacobi)*2,\n",
    "        cellLoc ='center',\n",
    "        loc ='upper left')\n",
    "\n",
    "    ax.set_title('Erros por iteração: JACOBI',fontweight =\"bold\") \n",
    "\n",
    "    plt.show()\n"
   ]
  },
  {
   "cell_type": "code",
   "execution_count": 7,
   "metadata": {},
   "outputs": [],
   "source": [
    "def exercicio1(opt):\n",
    "    if(opt == 1):\n",
    "        byJacobi()\n",
    "    elif(opt == 2):\n",
    "        bySeidel()\n",
    "    "
   ]
  },
  {
   "cell_type": "code",
   "execution_count": 8,
   "metadata": {},
   "outputs": [
    {
     "data": {
      "image/png": "[encoded data removed]",
      "text/plain": [
       "<Figure size 432x288 with 1 Axes>"
      ]
     },
     "metadata": {
      "needs_background": "light"
     },
     "output_type": "display_data"
    }
   ],
   "source": [
    "exercicio1(1)"
   ]
  },
  {
   "cell_type": "code",
   "execution_count": 9,
   "metadata": {},
   "outputs": [
    {
     "data": {
      "image/png": "[encoded data removed]",
      "text/plain": [
       "<Figure size 432x288 with 1 Axes>"
      ]
     },
     "metadata": {
      "needs_background": "light"
     },
     "output_type": "display_data"
    }
   ],
   "source": [
    "exercicio1(2)"
   ]
  },
  {
   "cell_type": "code",
   "execution_count": 13,
   "metadata": {},
   "outputs": [
    {
     "name": "stderr",
     "output_type": "stream",
     "text": [
      "C:\\Users\\Luana\\Anaconda3\\lib\\site-packages\\ipykernel_launcher.py:20: RuntimeWarning: invalid value encountered in greater\n",
      "C:\\Users\\Luana\\Anaconda3\\lib\\site-packages\\ipykernel_launcher.py:22: RuntimeWarning: invalid value encountered in less_equal\n",
      "C:\\Users\\Luana\\Anaconda3\\lib\\site-packages\\ipykernel_launcher.py:18: RuntimeWarning: invalid value encountered in greater\n"
     ]
    }
   ],
   "source": [
    "A = hilbert(5) + np.eye(5) * .5\n",
    "xa = [0.01526, 0.49922, 0.78386, 0.97474, 1.11259]\n",
    "b = np.array([1, 1, 1, 1, 1])\n",
    "\n",
    "tol = 10**-3\n",
    "\n",
    "xb, itb, errJacobib = jacobi(A, b, tol)"
   ]
  },
  {
   "cell_type": "code",
   "execution_count": 11,
   "metadata": {},
   "outputs": [
    {
     "name": "stdout",
     "output_type": "stream",
     "text": [
      "[0.6666666666666666, 0.8000000000000002, 0.8253968253968254, 0.8334156378600824, 0.8365787122929981]\n",
      "1.0508019270558955\n",
      "[-0.033867951370596984, 0.6053662276582912, 0.8593341561223721, 0.9949318460987698, 1.077955716979956]\n",
      "0.08101707511028389\n",
      "[-0.03563462497152442, 0.509205741686507, 0.8068016067116293, 0.9922206137373398, 1.117594394632381]\n",
      "0.058341165349345636\n",
      "[0.0032594852613726335, 0.49435200060625, 0.7861415148305952, 0.979365089778849, 1.1163756042560335]\n",
      "0.01777120689869871\n",
      "[0.015106956527171736, 0.49677062923638793, 0.782945637675149, 0.9750708253632896, 1.1134640844665795]\n",
      "0.0021430754702158605\n",
      "[0.016114855281745333, 0.4987375805479028, 0.7833798348966015, 0.9745204835264274, 1.1126088546975843]\n",
      "0.0008195766498935164\n",
      "6\n"
     ]
    }
   ],
   "source": [
    "A = hilbert(5) + np.eye(5) * .5\n",
    "xa = [0, 0, 0,0, 0]\n",
    "\n",
    "tol = 10**-3\n",
    "flag = True\n",
    "itb = 0\n",
    "while flag:\n",
    "    xc = seidel(A,b,xa)\n",
    "    itb += 1\n",
    "    print(xc)\n",
    "    errb = b-(A.dot(xa))\n",
    "    errb = max(np.abs(errb))\n",
    "    print(errb)\n",
    "    if(errb <= tol):\n",
    "        break\n",
    "\n",
    "print(itb)   "
   ]
  },
  {
   "cell_type": "code",
   "execution_count": 12,
   "metadata": {},
   "outputs": [
    {
     "name": "stdout",
     "output_type": "stream",
     "text": [
      "[[1 0 0 0 0]\n",
      " [0 1 0 0 0]\n",
      " [0 0 1 0 0]\n",
      " [0 0 0 1 0]\n",
      " [0 0 0 0 1]]\n",
      "[1.5        0.83333333 0.7        0.64285714 0.61111111]\n",
      "[-1.57082452  0.38835333  0.60950344  0.66369418  0.68810703]\n"
     ]
    }
   ],
   "source": [
    "A = hilbert(5) + np.eye(5) * .5\n",
    "I = np.diagflat([1,1,1,1,1])\n",
    "print(I)\n",
    "\n",
    "D = np.diag(A)\n",
    "print(D)\n",
    "\n",
    "B = I - D*A\n",
    "\n",
    "auvalores = np.linalg.eigvals(B)\n",
    "print(auvalores)\n",
    "#percebemos que como modulo de -1.57082452 é 1.57082452, não cumprimos a ordem do teorema que diz que\n",
    "#o maior autovalor de B deve ser menor que 1 para conseguirmos convergir para solução."
   ]
  }
 ],
 "metadata": {
  "kernelspec": {
   "display_name": "Python 3",
   "language": "python",
   "name": "python3"
  },
  "language_info": {
   "codemirror_mode": {
    "name": "ipython",
    "version": 3
   },
   "file_extension": ".py",
   "mimetype": "text/x-python",
   "name": "python",
   "nbconvert_exporter": "python",
   "pygments_lexer": "ipython3",
   "version": "3.7.4"
  }
 },
 "nbformat": 4,
 "nbformat_minor": 2
}
